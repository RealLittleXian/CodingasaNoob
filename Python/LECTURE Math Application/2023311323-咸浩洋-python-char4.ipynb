{
  "nbformat": 4,
  "nbformat_minor": 0,
  "metadata": {
    "colab": {
      "provenance": []
    },
    "kernelspec": {
      "name": "python3",
      "display_name": "Python 3"
    },
    "language_info": {
      "name": "python"
    }
  },
  "cells": [
    {
      "cell_type": "markdown",
      "source": [
        "实验作业1 查询省份简称"
      ],
      "metadata": {
        "id": "7HZ0jdGBgC9y"
      }
    },
    {
      "cell_type": "code",
      "execution_count": 1,
      "metadata": {
        "colab": {
          "base_uri": "https://localhost:8080/"
        },
        "id": "5CI_lhZEgAb9",
        "outputId": "63866c32-d198-4952-d5bd-2da4da1379ed"
      },
      "outputs": [
        {
          "output_type": "stream",
          "name": "stdout",
          "text": [
            "请输入全称，exit结束程序：广东\n",
            "未找到 “广东” 的简称，请检查。\n",
            "请输入全称，exit结束程序：广东省\n",
            "广东省 的简称是 “粤”。\n",
            "请输入全称，exit结束程序：exit\n",
            "退出\n"
          ]
        }
      ],
      "source": [
        "def query_province_abbreviation():\n",
        "  # dictionary\n",
        "    province_map = {\n",
        "        \"北京市\": \"京\",\n",
        "        \"天津市\": \"津\",\n",
        "        \"河北省\": \"冀\",\n",
        "        \"山西省\": \"晋\",\n",
        "        \"内蒙古自治区\": \"蒙\",\n",
        "        \"辽宁省\": \"辽\",\n",
        "        \"吉林省\": \"吉\",\n",
        "        \"黑龙江省\": \"黑\",\n",
        "        \"上海市\": \"沪\",\n",
        "        \"江苏省\": \"苏\",\n",
        "        \"浙江省\": \"浙\",\n",
        "        \"安徽省\": \"皖\",\n",
        "        \"福建省\": \"闽\",\n",
        "        \"江西省\": \"赣\",\n",
        "        \"山东省\": \"鲁\",\n",
        "        \"河南省\": \"豫\",\n",
        "        \"湖北省\": \"鄂\",\n",
        "        \"湖南省\": \"湘\",\n",
        "        \"广东省\": \"粤\",\n",
        "        \"广西壮族自治区\": \"桂\",\n",
        "        \"海南省\": \"琼\",\n",
        "        \"重庆市\": \"渝\",\n",
        "        \"四川省\": \"川\",\n",
        "        \"贵州省\": \"贵\",\n",
        "        \"云南省\": \"云\",\n",
        "        \"西藏自治区\": \"藏\",\n",
        "        \"陕西省\": \"陕\",\n",
        "        \"甘肃省\": \"甘\",\n",
        "        \"青海省\": \"青\",\n",
        "        \"宁夏回族自治区\": \"宁\",\n",
        "        \"新疆维吾尔自治区\": \"新\",\n",
        "        \"台湾省\": \"台\",\n",
        "        \"香港特别行政区\": \"港\",\n",
        "        \"澳门特别行政区\": \"澳\"\n",
        "    }\n",
        "\n",
        "    while True:\n",
        "        user_input = input(\"请输入全称，exit结束程序：\")\n",
        "\n",
        "        if user_input == \"exit\":\n",
        "            print(\"退出\")\n",
        "            break\n",
        "\n",
        "        abbreviation = province_map.get(user_input)\n",
        "\n",
        "        if abbreviation:\n",
        "            print(f\"{user_input} 的简称是 “{abbreviation}”。\")\n",
        "        else:\n",
        "            print(f\"未找到 “{user_input}” 的简称，请检查。\")\n",
        "\n",
        "if __name__ == '__main__':\n",
        "    query_province_abbreviation()"
      ]
    },
    {
      "cell_type": "markdown",
      "source": [
        "实验作业2 猜单词游戏"
      ],
      "metadata": {
        "id": "GU95TsuLhDy2"
      }
    },
    {
      "cell_type": "code",
      "source": [
        "import random\n",
        "\n",
        "def word_jumble_game():\n",
        "  # dictionary\n",
        "    WORDS = [\n",
        "        'apple', 'pear', 'banana', 'cherry', 'good', 'better', 'best', 'python',\n",
        "        'while', 'tuple', 'dictionary', 'jumble', 'difficult', 'aesthetic',\n",
        "        'stereotype', 'civilization', 'anniversary'\n",
        "    ]\n",
        "    print(\"请把乱序后的字母组成一个单词。\")\n",
        "    playing = True\n",
        "    while playing:\n",
        "        word = random.choice(WORDS)\n",
        "        correct = word\n",
        "        jumble = \"\"\n",
        "        temp_word = list(word)\n",
        "\n",
        "        while temp_word:\n",
        "          # randomize\n",
        "            index = random.randrange(len(temp_word))\n",
        "            jumble += temp_word.pop(index)\n",
        "\n",
        "        print(\"\\n乱序后的单词：\", jumble)\n",
        "\n",
        "        guess = \"\"\n",
        "        while guess != correct:\n",
        "            guess = input(\"请输入您猜测的结果：\")\n",
        "            if guess != correct:\n",
        "                print(\"结果不对，请重新猜测。\")\n",
        "\n",
        "        print(\"恭喜您，猜对了！\")\n",
        "\n",
        "        again = input(\"是否继续(Y/N)？ \").lower()\n",
        "        if again != 'y':\n",
        "            playing = False\n",
        "\n",
        "    print(\"谢谢参与，欢迎下次再玩！\")\n",
        "\n",
        "if __name__ == '__main__':\n",
        "    word_jumble_game()"
      ],
      "metadata": {
        "colab": {
          "base_uri": "https://localhost:8080/"
        },
        "id": "JfdZ_Gulg0OJ",
        "outputId": "58504bc1-15d1-4b52-e29c-c177c2130062"
      },
      "execution_count": 2,
      "outputs": [
        {
          "output_type": "stream",
          "name": "stdout",
          "text": [
            "请把乱序后的字母组成一个单词。\n",
            "\n",
            "乱序后的单词： uelpt\n",
            "请输入您猜测的结果：tuple\n",
            "恭喜您，猜对了！\n",
            "是否继续(Y/N)？ y\n",
            "\n",
            "乱序后的单词： bnaaan\n",
            "请输入您猜测的结果：anaban\n",
            "结果不对，请重新猜测。\n",
            "请输入您猜测的结果：banana\n",
            "恭喜您，猜对了！\n",
            "是否继续(Y/N)？ n\n",
            "谢谢参与，欢迎下次再玩！\n"
          ]
        }
      ]
    },
    {
      "cell_type": "markdown",
      "source": [
        "实验作业3 身份证校验"
      ],
      "metadata": {
        "id": "PsL_qOQviK6C"
      }
    },
    {
      "cell_type": "code",
      "source": [
        "def validate_id_checksum(id_number):\n",
        "    if not (len(id_number) == 18 and id_number[:17].isdigit()):\n",
        "        print(\"输入格式错误\")\n",
        "        return\n",
        "\n",
        "    # 加权因子\n",
        "    weights = [7, 9, 10, 5, 8, 4, 2, 1, 6, 3, 7, 9, 10, 5, 8, 4, 2]\n",
        "\n",
        "    # Z与M对应关系\n",
        "    check_map = ['1', '0', 'X', '9', '8', '7', '6', '5', '4', '3', '2']\n",
        "\n",
        "    total = sum(int(id_number[i]) * weights[i] for i in range(17))\n",
        "    z = total % 11\n",
        "    calcu_digit = check_map[z]\n",
        "\n",
        "    provided_digit = id_number[-1].upper()\n",
        "\n",
        "    if provided_digit == calcu_digit:\n",
        "        print(f\"身份证号规则核验通过，校验码是: {provided_digit}\")\n",
        "    else:\n",
        "        print(f\"但身份证号规则核验失败，校验码应为 {calcu_digit}，当前校验码是: {provided_digit}\")\n",
        "\n",
        "if __name__ == '__main__':\n",
        "    user_id = input(\"请输入18位身份证号: \")\n",
        "    validate_id_checksum(user_id)"
      ],
      "metadata": {
        "colab": {
          "base_uri": "https://localhost:8080/"
        },
        "id": "PtYTht7bhwXA",
        "outputId": "955a9f6e-5812-4eca-ea15-8d15229958e6"
      },
      "execution_count": 7,
      "outputs": [
        {
          "output_type": "stream",
          "name": "stdout",
          "text": [
            "请输入18位身份证号: 123456123456123456\n",
            "但身份证号规则核验失败，校验码应为 X，当前校验码是: 6\n"
          ]
        }
      ]
    }
  ]
}