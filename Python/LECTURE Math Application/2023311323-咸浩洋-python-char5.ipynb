{
  "nbformat": 4,
  "nbformat_minor": 0,
  "metadata": {
    "colab": {
      "provenance": []
    },
    "kernelspec": {
      "name": "python3",
      "display_name": "Python 3"
    },
    "language_info": {
      "name": "python"
    }
  },
  "cells": [
    {
      "cell_type": "markdown",
      "source": [
        "作业1"
      ],
      "metadata": {
        "id": "n49yICoPHuG0"
      }
    },
    {
      "cell_type": "code",
      "execution_count": null,
      "metadata": {
        "id": "xKNT2qWxHhzz",
        "colab": {
          "base_uri": "https://localhost:8080/"
        },
        "outputId": "dd64f0e3-afac-4215-ff35-e31166a62889"
      },
      "outputs": [
        {
          "output_type": "stream",
          "name": "stdout",
          "text": [
            "在 1 到 2019 中，所有满足条件的数的平方和是 2658417853\n"
          ]
        }
      ],
      "source": [
        "def calculate():\n",
        "    target_digits = {'2', '0', '1', '9'}\n",
        "    total = 0\n",
        "\n",
        "    for i in range(1, 2020):\n",
        "        if any(digit in str(i) for digit in target_digits):\n",
        "            total += i * i\n",
        "\n",
        "    print(f\"在 1 到 2019 中，所有满足条件的数的平方和是 {total}\")\n",
        "\n",
        "calculate()"
      ]
    },
    {
      "cell_type": "code",
      "source": [
        "def find_sequence_last_four_digits():\n",
        "    n = 20190324\n",
        "    mod = 10000\n",
        "\n",
        "    if n <= 3:\n",
        "        result = 1\n",
        "    else:\n",
        "        a, b, c = 1, 1, 1\n",
        "        for _ in range(4, n + 1):\n",
        "            # 计算下一项，并只保留最后四位\n",
        "            next_term = (a + b + c) % mod\n",
        "            a, b, c = b, c, next_term\n",
        "        result = c\n",
        "\n",
        "    print(f\"数列第 {n} 项最后 4 位数字为 {result}\")\n",
        "\n",
        "find_sequence_last_four_digits()"
      ],
      "metadata": {
        "colab": {
          "base_uri": "https://localhost:8080/"
        },
        "id": "kVeOxob7H0-6",
        "outputId": "8d072a32-88a9-4e24-9149-8c165b237f3f"
      },
      "execution_count": null,
      "outputs": [
        {
          "output_type": "stream",
          "name": "stdout",
          "text": [
            "数列第 20190324 项最后 4 位数字为 4659\n"
          ]
        }
      ]
    },
    {
      "cell_type": "markdown",
      "source": [
        "作业2"
      ],
      "metadata": {
        "id": "1ABggbvjIN4s"
      }
    },
    {
      "cell_type": "code",
      "source": [
        "def puzzle():\n",
        "    counts = [2021] * 10\n",
        "    number = 1\n",
        "\n",
        "    while True:\n",
        "        required_digits_str = str(number)\n",
        "\n",
        "        can_form = True\n",
        "        temp_counts = list(counts)\n",
        "\n",
        "        for digit_char in required_digits_str:\n",
        "            digit = int(digit_char)\n",
        "            if temp_counts[digit] > 0:\n",
        "                temp_counts[digit] -= 1\n",
        "            else:\n",
        "                can_form = False\n",
        "                break\n",
        "\n",
        "        if can_form:\n",
        "            counts = temp_counts\n",
        "            number += 1\n",
        "        else:\n",
        "            break\n",
        "\n",
        "    result = number - 1\n",
        "    print(f\"可以从 1 拼到：{result}\")\n",
        "\n",
        "if __name__ == '__main__':\n",
        "    puzzle()"
      ],
      "metadata": {
        "colab": {
          "base_uri": "https://localhost:8080/"
        },
        "id": "ASQxqhWKIQ3p",
        "outputId": "12021ed1-3552-44bd-c2e5-11e5f0e637d3"
      },
      "execution_count": null,
      "outputs": [
        {
          "output_type": "stream",
          "name": "stdout",
          "text": [
            "可以从 1 拼到：3181\n"
          ]
        }
      ]
    },
    {
      "cell_type": "markdown",
      "source": [
        "作业3"
      ],
      "metadata": {
        "id": "4vxSq04GJUVa"
      }
    },
    {
      "cell_type": "code",
      "source": [
        "def de_message(ciphertext):\n",
        "    alphabet = 'abcdefghijklmnopqrstuvwxyz'\n",
        "    de_text = \"\"\n",
        "\n",
        "    # 遍历\n",
        "    for char in ciphertext:\n",
        "        if 'a' <= char <= 'z':\n",
        "            current_index = alphabet.find(char)\n",
        "\n",
        "            # 索引向右移动2位\n",
        "            # % 26 处理从z到a的循环\n",
        "            new_index = (current_index + 2) % 26\n",
        "\n",
        "            de_char = alphabet[new_index]\n",
        "            de_text += de_char\n",
        "        else:\n",
        "            de_text += char\n",
        "\n",
        "    return de_text\n",
        "\n",
        "ciphertext = \"\"\"g fmnc wms bgblr rpylqjyrc gr zw fylb rfyrq ufyr\n",
        "amknsrcpq ypc dmp. bmgle gr zw fylb gq glcddagclr ylb rfyr'q ufw\n",
        "rfgq rcvr gq qm jmle. zw qwkyl.\"\"\"\n",
        "\n",
        "# 解密\n",
        "plaintext = de_message(ciphertext)\n",
        "\n",
        "print(\"明文 \")\n",
        "print(plaintext)"
      ],
      "metadata": {
        "colab": {
          "base_uri": "https://localhost:8080/"
        },
        "id": "lAvhg2UWJWyU",
        "outputId": "73515c29-6ef5-47a7-8db7-17e8db91c1ba"
      },
      "execution_count": null,
      "outputs": [
        {
          "output_type": "stream",
          "name": "stdout",
          "text": [
            "明文 \n",
            "i hope you didnt translate it by hand thats what \n",
            "computers are for. doing it by hand is ineffcient and that's why\n",
            "this text is so long. by syman.\n"
          ]
        }
      ]
    },
    {
      "cell_type": "markdown",
      "source": [
        "作业4"
      ],
      "metadata": {
        "id": "14gwlRXGPttB"
      }
    },
    {
      "cell_type": "code",
      "source": [
        "!pip install jieba"
      ],
      "metadata": {
        "colab": {
          "base_uri": "https://localhost:8080/"
        },
        "id": "pxejBzHp1Pna",
        "outputId": "1d895fd2-2bb3-40ac-868c-53a5121947aa"
      },
      "execution_count": 1,
      "outputs": [
        {
          "output_type": "stream",
          "name": "stdout",
          "text": [
            "Requirement already satisfied: jieba in /usr/local/lib/python3.11/dist-packages (0.42.1)\n"
          ]
        }
      ]
    },
    {
      "cell_type": "code",
      "source": [
        "import jieba\n",
        "\n",
        "input_file = '西游记.txt'\n",
        "output_file = '西游记词汇.txt'\n",
        "word_to_count = '八戒'\n",
        "\n",
        "try:\n",
        "    # 读源文件\n",
        "    with open(input_file, 'r', encoding='utf-8') as f:\n",
        "        text = f.read()\n",
        "\n",
        "    # 分词\n",
        "    # jieba.lcut()\n",
        "    words = jieba.lcut(text)\n",
        "\n",
        "    # 保存\n",
        "    with open(output_file, 'w', encoding='utf-8') as f:\n",
        "        f.write(' '.join(words))\n",
        "    print(f\"保存至 '{output_file}' \")\n",
        "\n",
        "    # 统计 \"八戒\"\n",
        "    count = words.count(word_to_count)\n",
        "\n",
        "    print(f\"关键词 '{word_to_count}' 在 '{input_file}' 中总共出现了 {count} 次。\")\n",
        "\n",
        "except FileNotFoundError:\n",
        "    print(f\"找不到文件 '{input_file}'。\")"
      ],
      "metadata": {
        "colab": {
          "base_uri": "https://localhost:8080/"
        },
        "id": "MqBUNYbBPtKy",
        "outputId": "32e4e81c-4807-49d1-ddb5-5156ee59ab71"
      },
      "execution_count": 5,
      "outputs": [
        {
          "output_type": "stream",
          "name": "stdout",
          "text": [
            "保存至 '西游记词汇.txt' \n",
            "关键词 '八戒' 在 '西游记.txt' 中总共出现了 116 次。\n"
          ]
        }
      ]
    }
  ]
}