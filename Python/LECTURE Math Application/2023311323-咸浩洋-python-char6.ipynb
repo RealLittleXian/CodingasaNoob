{
  "cells": [
    {
      "cell_type": "markdown",
      "metadata": {
        "id": "ci2xzFvh7BWF"
      },
      "source": [
        "1"
      ]
    },
    {
      "cell_type": "code",
      "execution_count": 4,
      "metadata": {
        "colab": {
          "base_uri": "https://localhost:8080/"
        },
        "id": "OJb2yHvA68fb",
        "outputId": "1c2f8c23-8449-43b8-8934-527631d880bb"
      },
      "outputs": [
        {
          "name": "stdout",
          "output_type": "stream",
          "text": [
            "输入年: 2025\n",
            "输入月: 7\n",
            "输入日: 2\n",
            "日期 2025-7-2 是该年的第 183 天。\n"
          ]
        }
      ],
      "source": [
        "import datetime\n",
        "\n",
        "def calculate_day_of_year(year: int, month: int, day: int) -> int | None:\n",
        "    \"\"\"\n",
        "    计算给定日期是该年度的第几天.\n",
        "    \"\"\"\n",
        "    try:\n",
        "        date_object = datetime.date(year, month, day)\n",
        "        # 使用strftime('%j')直接获取年份中的天数\n",
        "        day_of_year = int(date_object.strftime('%j'))\n",
        "        return day_of_year\n",
        "    except ValueError:\n",
        "        return None\n",
        "\n",
        "if __name__ == \"__main__\":\n",
        "    try:\n",
        "        year_input = int(input(\"输入年: \"))\n",
        "        month_input = int(input(\"输入月: \"))\n",
        "        day_input = int(input(\"输入日: \"))\n",
        "\n",
        "        result = calculate_day_of_year(year_input, month_input, day_input)\n",
        "\n",
        "        if result is not None:\n",
        "            print(f\"日期 {year_input}-{month_input}-{day_input} 是该年的第 {result} 天。\")\n",
        "        else:\n",
        "            print(\"日期组合无效.\")\n",
        "\n",
        "    except ValueError:\n",
        "        print(\"输入无效.\")"
      ]
    },
    {
      "cell_type": "markdown",
      "metadata": {
        "id": "dPp0ak4z-8Lj"
      },
      "source": [
        "2"
      ]
    },
    {
      "cell_type": "code",
      "execution_count": 9,
      "metadata": {
        "colab": {
          "base_uri": "https://localhost:8080/"
        },
        "id": "Jj2yNfg_9Orr",
        "outputId": "42dc9680-3792-4e9b-acd5-2db604269e22"
      },
      "outputs": [
        {
          "name": "stdout",
          "output_type": "stream",
          "text": [
            "输入字符串: No lemon, no melon\n",
            "'No lemon, no melon' 为回文。\n"
          ]
        }
      ],
      "source": [
        "def is_palindrome(text: str) -> bool:\n",
        "    \"\"\"\n",
        "    判断一个字符串是否为回文（忽略大小写、空格和标点符号）\n",
        "    \"\"\"\n",
        "    # 使用生成器表达式过滤掉所有非字母和非数字的字符，并转换为小写\n",
        "\n",
        "    # cleaned_chars = []\n",
        "    # for char in text:\n",
        "    # if char.isalnum():\n",
        "    #   cleaned_chars.append(char.lower())\n",
        "    #   cleaned_text = ''.join(cleaned_chars)\n",
        "    #   cleaned_text = ''.join(char.lower() for char in text if char.isalnum())\n",
        "    # return cleaned_text == cleaned_text[::-1]\n",
        "\n",
        "    cleaned_text = ''.join(char.lower() for char in text if char.isalnum())\n",
        "\n",
        "    # 判断\n",
        "    return cleaned_text == cleaned_text[::-1]\n",
        "\n",
        "if __name__ == \"__main__\":\n",
        "    input_string = input(\"输入字符串: \")\n",
        "\n",
        "    if is_palindrome(input_string):\n",
        "        print(f\"'{input_string}' 为回文。\")\n",
        "    else:\n",
        "        print(f\"'{input_string}' 不是回文。\")"
      ]
    },
    {
      "cell_type": "markdown",
      "metadata": {
        "id": "zASSJmXv--u3"
      },
      "source": [
        "3"
      ]
    },
    {
      "cell_type": "code",
      "execution_count": 11,
      "metadata": {
        "colab": {
          "base_uri": "https://localhost:8080/"
        },
        "id": "Tc0bxMUm_A5u",
        "outputId": "133a3804-1247-4582-9cae-b9f0646e528b"
      },
      "outputs": [
        {
          "name": "stdout",
          "output_type": "stream",
          "text": [
            "输入正整数 n: 314159\n",
            "结果: 6.964010267357523\n"
          ]
        }
      ],
      "source": [
        "def calculate_conditional_series(n: int) -> float | str:\n",
        "\n",
        "    total_sum = 0.0\n",
        "\n",
        "    # n的奇偶性判断\n",
        "    start = 2 if n % 2 == 0 else 1\n",
        "\n",
        "    for i in range(start, n + 1, 2):\n",
        "        total_sum += 1 / i\n",
        "\n",
        "    return total_sum\n",
        "\n",
        "if __name__ == \"__main__\":\n",
        "    try:\n",
        "        number_input = int(input(\"输入正整数 n: \"))\n",
        "\n",
        "        result = calculate_conditional_series(number_input)\n",
        "\n",
        "        if isinstance(result, str):\n",
        "            # 错误\n",
        "            print(f\"错误： {result}\")\n",
        "        else:\n",
        "            print(f\"结果: {result}\")\n",
        "\n",
        "    except ValueError:\n",
        "        print(\"错误，请输入整数\")"
      ]
    },
    {
      "cell_type": "markdown",
      "metadata": {
        "id": "UZYFfz5EAGx9"
      },
      "source": [
        "4"
      ]
    },
    {
      "cell_type": "code",
      "execution_count": 14,
      "metadata": {
        "colab": {
          "base_uri": "https://localhost:8080/"
        },
        "id": "VqxupNcmAILg",
        "outputId": "5fdc7078-db74-450d-caca-5344411c6b04"
      },
      "outputs": [
        {
          "name": "stdout",
          "output_type": "stream",
          "text": [
            "输入月: 12\n",
            "输入日: 31\n",
            "生日是 12月31日，星座是 摩羯座 。\n"
          ]
        }
      ],
      "source": [
        "def get_zodiac_sign_by_map(month: int, day: int) -> str:\n",
        "\n",
        "    # key - (月份, 日期)，value - 星座\n",
        "    ZODIAC_MAP = {\n",
        "        (1, 20): \"水瓶座\", (2, 19): \"双鱼座\", (3, 21): \"白羊座\",\n",
        "        (4, 20): \"金牛座\", (5, 21): \"双子座\", (6, 22): \"巨蟹座\",\n",
        "        (7, 23): \"狮子座\", (8, 23): \"处女座\", (9, 23): \"天秤座\",\n",
        "        (10, 24): \"天蝎座\", (11, 23): \"射手座\", (12, 22): \"摩羯座\"\n",
        "    }\n",
        "\n",
        "    # 键按照所有起始日期排序\n",
        "    sorted_start_dates = sorted(ZODIAC_MAP.keys())\n",
        "\n",
        "    input_date = (month, day)\n",
        "\n",
        "    for index, start_date in enumerate(sorted_start_dates):\n",
        "        # 如果用户日期小于当前星座起始日期\n",
        "        if input_date < start_date:\n",
        "            # 利用 Python 索引\n",
        "            previous_sign_start_date = sorted_start_dates[index - 1]\n",
        "            return ZODIAC_MAP[previous_sign_start_date]\n",
        "\n",
        "    last_sign_start_date = sorted_start_dates[-1]\n",
        "    return ZODIAC_MAP[last_sign_start_date]\n",
        "\n",
        "if __name__ == \"__main__\":\n",
        "    try:\n",
        "        month_input = int(input(\"输入月: \"))\n",
        "        day_input = int(input(\"输入日: \"))\n",
        "\n",
        "        if not (1 <= month_input <= 12 and 1 <= day_input <= 31):\n",
        "            print(\"错误，非法日期\")\n",
        "        else:\n",
        "            zodiac_sign = get_zodiac_sign_by_map(month_input, day_input)\n",
        "            print(f\"生日是 {month_input}月{day_input}日，星座是 {zodiac_sign} 。\")\n",
        "\n",
        "    except ValueError:\n",
        "        print(\"错误，请输入数字\")"
      ]
    }
  ],
  "metadata": {
    "colab": {
      "provenance": []
    },
    "kernelspec": {
      "display_name": "Python 3",
      "name": "python3"
    },
    "language_info": {
      "name": "python"
    }
  },
  "nbformat": 4,
  "nbformat_minor": 0
}
