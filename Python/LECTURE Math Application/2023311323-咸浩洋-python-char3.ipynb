{
  "nbformat": 4,
  "nbformat_minor": 0,
  "metadata": {
    "colab": {
      "provenance": [],
      "toc_visible": true
    },
    "kernelspec": {
      "name": "python3",
      "display_name": "Python 3"
    },
    "language_info": {
      "name": "python"
    }
  },
  "cells": [
    {
      "cell_type": "markdown",
      "source": [
        "实验作业1 打印九九乘法表"
      ],
      "metadata": {
        "id": "UUiY44IHGJCi"
      }
    },
    {
      "cell_type": "code",
      "execution_count": null,
      "metadata": {
        "colab": {
          "base_uri": "https://localhost:8080/"
        },
        "id": "6IEYrCoAp2Ol",
        "outputId": "d92fc76b-7059-4018-9dfe-3216baad3a18"
      },
      "outputs": [
        {
          "output_type": "stream",
          "name": "stdout",
          "text": [
            "1*1=1\t\n",
            "1*2=2\t2*2=4\t\n",
            "1*3=3\t2*3=6\t3*3=9\t\n",
            "1*4=4\t2*4=8\t3*4=12\t4*4=16\t\n",
            "1*5=5\t2*5=10\t3*5=15\t4*5=20\t5*5=25\t\n",
            "1*6=6\t2*6=12\t3*6=18\t4*6=24\t5*6=30\t6*6=36\t\n",
            "1*7=7\t2*7=14\t3*7=21\t4*7=28\t5*7=35\t6*7=42\t7*7=49\t\n",
            "1*8=8\t2*8=16\t3*8=24\t4*8=32\t5*8=40\t6*8=48\t7*8=56\t8*8=64\t\n",
            "1*9=9\t2*9=18\t3*9=27\t4*9=36\t5*9=45\t6*9=54\t7*9=63\t8*9=72\t9*9=81\t\n"
          ]
        }
      ],
      "source": [
        "for i in range(1, 10):\n",
        "\n",
        "    for j in range(1, i + 1):\n",
        "        print(f\"{j}*{i}={j*i}\", end=\"\\t\")\n",
        "\n",
        "    print()"
      ]
    },
    {
      "cell_type": "markdown",
      "source": [
        "实验作业2 三角形判断"
      ],
      "metadata": {
        "id": "iGfTJ0ZsGN_B"
      }
    },
    {
      "cell_type": "code",
      "source": [
        "import math\n",
        "\n",
        "def triangle():\n",
        "    try:\n",
        "        input_str = input(\"输入a b c,空格隔开: \")\n",
        "        sides = [float(x) for x in input_str.split()]\n",
        "        if len(sides) != 3:\n",
        "            print(\"输入错误，请输入三条边长！\")\n",
        "            return\n",
        "    except ValueError:\n",
        "        print(\"输入无效，请输入三个数字并用空格隔开。\")\n",
        "        return\n",
        "\n",
        "    s1, s2, s3 = sorted(sides)\n",
        "\n",
        "    if s1 <= 0 or (s1 + s2) <= s3:\n",
        "        print(\"不能构成三角形!\")\n",
        "        return\n",
        "\n",
        "    epsilon = 1e-6\n",
        "\n",
        "    is_right = abs(s1**2 + s2**2 - s3**2) < epsilon\n",
        "    is_isosceles = (abs(s1 - s2) < epsilon) or (abs(s2 - s3) < epsilon)\n",
        "    is_equilateral = (abs(s1 - s2) < epsilon) and (abs(s2 - s3) < epsilon)\n",
        "\n",
        "    if is_right:\n",
        "        area = 0.5 * s1 * s2\n",
        "    else:\n",
        "        p = (s1 + s2 + s3) / 2\n",
        "        area = math.sqrt(p * (p - s1) * (p - s2) * (p - s3))\n",
        "\n",
        "    if is_equilateral:\n",
        "        type_string = \"等边三角形\"\n",
        "    elif is_isosceles and is_right:\n",
        "        type_string = \"等腰直角三角形\"\n",
        "    elif is_right:\n",
        "        type_string = \"直角三角形\"\n",
        "    elif is_isosceles:\n",
        "        type_string = \"等腰三角形\"\n",
        "    else:\n",
        "        type_string = \"一般三角形\"\n",
        "\n",
        "    print(f\"{type_string}, 其面积为{area:.6f}\")\n",
        "\n",
        "if __name__ == \"__main__\":\n",
        "    triangle()"
      ],
      "metadata": {
        "colab": {
          "base_uri": "https://localhost:8080/"
        },
        "id": "SFP9W7v7Hjhj",
        "outputId": "bc233314-def4-488e-df2f-d4b0eea21389"
      },
      "execution_count": 3,
      "outputs": [
        {
          "output_type": "stream",
          "name": "stdout",
          "text": [
            "输入a b c,空格隔开: 12 15 18\n",
            "一般三角形, 其面积为89.294107\n"
          ]
        }
      ]
    },
    {
      "cell_type": "markdown",
      "source": [
        "实验作业3 猜数字"
      ],
      "metadata": {
        "id": "OMPzGkyeql8x"
      }
    },
    {
      "cell_type": "code",
      "source": [
        "import random\n",
        "\n",
        "def guess_number():\n",
        "    target_number = random.randint(1, 100)\n",
        "    guess_count = 0\n",
        "\n",
        "    while True:\n",
        "        try:\n",
        "            prompt = \"请输入一个非负整数: \"\n",
        "            user_input_str = input(prompt)\n",
        "            user_input_int = int(user_input_str)\n",
        "\n",
        "            guess_count += 1\n",
        "\n",
        "            if user_input_int == 0:\n",
        "                print(\"游戏已中止。\")\n",
        "                break\n",
        "\n",
        "            if user_input_int < target_number:\n",
        "                print(\"输入的数字偏小，请继续输入!\")\n",
        "            elif user_input_int > target_number:\n",
        "                print(\"输入的数字偏大，请继续输入！\")\n",
        "            else:\n",
        "                print(f\"猜对了！共猜了{guess_count}次。\")\n",
        "                break\n",
        "        except ValueError:\n",
        "            print(\"输入无效，请输入一个整数。\")\n",
        "\n",
        "if __name__ == '__main__':\n",
        "    guess_number()"
      ],
      "metadata": {
        "colab": {
          "base_uri": "https://localhost:8080/"
        },
        "id": "j93kdy-KJab8",
        "outputId": "b920a493-0244-4ab8-ea2f-39aade7829a6"
      },
      "execution_count": null,
      "outputs": [
        {
          "output_type": "stream",
          "name": "stdout",
          "text": [
            "请输入一个非负整数: 1\n",
            "输入的数字偏小，请继续输入!\n",
            "请输入一个非负整数: 4\n",
            "输入的数字偏小，请继续输入!\n",
            "请输入一个非负整数: 50\n",
            "输入的数字偏大，请继续输入!\n",
            "请输入一个非负整数: 25\n",
            "输入的数字偏大，请继续输入!\n",
            "请输入一个非负整数: 12\n",
            "输入的数字偏大，请继续输入!\n",
            "请输入一个非负整数: 10\n",
            "输入的数字偏小，请继续输入!\n",
            "请输入一个非负整数: 11\n",
            "恭喜您，猜对了! 共猜了7次。\n"
          ]
        }
      ]
    },
    {
      "cell_type": "markdown",
      "source": [
        "实验作业4 韩信点兵"
      ],
      "metadata": {
        "id": "CPTzNiTHp_U1"
      }
    },
    {
      "cell_type": "code",
      "source": [
        "def hanxin_problem():\n",
        "    found_numbers = []\n",
        "\n",
        "    for number in range(1001):\n",
        "        if (number % 3 == 2) and (number % 5 == 3) and (number % 7 == 2):\n",
        "            found_numbers.append(number)\n",
        "\n",
        "    print(\"在0~1000中，满足条件的数有：\")\n",
        "    print(found_numbers)\n",
        "\n",
        "if __name__ == '__main__':\n",
        "    hanxin_problem()"
      ],
      "metadata": {
        "colab": {
          "base_uri": "https://localhost:8080/"
        },
        "id": "Q29ijoMjJvN1",
        "outputId": "e9b59fb9-6906-46f0-caaa-c0b0bdba55f2"
      },
      "execution_count": null,
      "outputs": [
        {
          "output_type": "stream",
          "name": "stdout",
          "text": [
            "在0~1000中，满足条件的数有：\n",
            "[23, 128, 233, 338, 443, 548, 653, 758, 863, 968]\n"
          ]
        }
      ]
    }
  ]
}